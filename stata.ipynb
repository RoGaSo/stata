{
 "cells": [
  {
   "cell_type": "code",
   "execution_count": 2,
   "id": "bd63d20e",
   "metadata": {},
   "outputs": [
    {
     "name": "stdout",
     "output_type": "stream",
     "text": [
      "IPyStata is loaded in batch mode.\n"
     ]
    }
   ],
   "source": [
    "import numpy as np\n",
    "import pandas as pd\n",
    "\n",
    "import ipystata\n",
    "from ipystata.config import config_stata \n",
    "\n",
    "config_stata('C:\\Program Files\\Stata17\\StataMP-64.exe', force_batch=True)"
   ]
  },
  {
   "cell_type": "code",
   "execution_count": 3,
   "id": "f45e106c",
   "metadata": {},
   "outputs": [],
   "source": [
    "wagepan_df = pd.read_stata('http://fmwww.bc.edu/ec-p/data/wooldridge/wagepan.dta')"
   ]
  },
  {
   "cell_type": "code",
   "execution_count": 4,
   "id": "69f37683",
   "metadata": {},
   "outputs": [
    {
     "name": "stdout",
     "output_type": "stream",
     "text": [
      "\n",
      "Panel variable: nr (strongly balanced)\n",
      " Time variable: year, 1980 to 1987\n",
      "         Delta: 1 unit\n",
      "\n",
      "Fixed-effects (within) regression               Number of obs     =      4,360\n",
      "Group variable: nr                              Number of groups  =        545\n",
      "\n",
      "R-squared:                                      Obs per group:\n",
      "     Within  = 0.1806                                         min =          8\n",
      "     Between = 0.0286                                         avg =        8.0\n",
      "     Overall = 0.0888                                         max =          8\n",
      "\n",
      "                                                F(10,3805)        =      83.85\n",
      "corr(u_i, Xb) = -0.1222                         Prob > F          =     0.0000\n",
      "\n",
      "------------------------------------------------------------------------------\n",
      "       lwage | Coefficient  Std. err.      t    P>|t|     [95% conf. interval]\n",
      "-------------+----------------------------------------------------------------\n",
      "     expersq |  -.0051855   .0007044    -7.36   0.000    -.0065666   -.0038044\n",
      "     married |   .0466804   .0183104     2.55   0.011     .0107812    .0825796\n",
      "       union |   .0800019   .0193103     4.14   0.000     .0421423    .1178614\n",
      "         d81 |   .1511912   .0219489     6.89   0.000     .1081584     .194224\n",
      "         d82 |   .2529709   .0244185    10.36   0.000     .2050963    .3008454\n",
      "         d83 |   .3544437   .0292419    12.12   0.000     .2971125     .411775\n",
      "         d84 |   .4901148   .0362266    13.53   0.000     .4190893    .5611402\n",
      "         d85 |   .6174822   .0452435    13.65   0.000     .5287784    .7061861\n",
      "         d86 |   .7654965   .0561277    13.64   0.000     .6554532    .8755399\n",
      "         d87 |   .9250249   .0687731    13.45   0.000     .7901892    1.059861\n",
      "       _cons |   1.426019   .0183415    77.75   0.000     1.390058    1.461979\n",
      "-------------+----------------------------------------------------------------\n",
      "     sigma_u |  .39176195\n",
      "     sigma_e |  .35099001\n",
      "         rho |  .55472816   (fraction of variance due to u_i)\n",
      "------------------------------------------------------------------------------\n",
      "F test that all u_i=0: F(544, 3805) = 9.16                   Prob > F = 0.0000\n"
     ]
    }
   ],
   "source": [
    "%%stata -d wagepan_df -o feresults\n",
    "xtset nr year\n",
    "xtreg lwage expersq married union d8*, fe\n",
    "regsave expersq married union, tstat pval"
   ]
  },
  {
   "cell_type": "code",
   "execution_count": 5,
   "id": "5fb09855",
   "metadata": {},
   "outputs": [
    {
     "name": "stdout",
     "output_type": "stream",
     "text": [
      "       var      coef    stderr     tstat          pval     N        r2\n",
      "0  expersq -0.005185  0.000704 -7.361195  2.222084e-13  4360  0.180578\n",
      "1  married  0.046680  0.018310  2.549387  1.083017e-02  4360  0.180578\n",
      "2    union  0.080002  0.019310  4.142962  3.503022e-05  4360  0.180578\n"
     ]
    }
   ],
   "source": [
    "print(feresults)"
   ]
  },
  {
   "cell_type": "code",
   "execution_count": null,
   "id": "99d0efa8",
   "metadata": {},
   "outputs": [],
   "source": []
  }
 ],
 "metadata": {
  "kernelspec": {
   "display_name": "Python 3 (ipykernel)",
   "language": "python",
   "name": "python3"
  },
  "language_info": {
   "codemirror_mode": {
    "name": "ipython",
    "version": 3
   },
   "file_extension": ".py",
   "mimetype": "text/x-python",
   "name": "python",
   "nbconvert_exporter": "python",
   "pygments_lexer": "ipython3",
   "version": "3.10.0"
  }
 },
 "nbformat": 4,
 "nbformat_minor": 5
}
